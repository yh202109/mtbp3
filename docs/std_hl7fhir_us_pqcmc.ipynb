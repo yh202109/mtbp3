{
    "cells": [
        {
            "cell_type": "markdown",
            "metadata": {},
            "source": [
                "# S/HL7/FHIR-R5/US/PQ-CMC\n",
                "\n",
                "Health Level Seven International®, or HL7®, is a nonprofit organization developing and maintaining healthcare technology related standards [^1]<sup>,</sup>[^2].\n",
                "HL7 Fast Healthcare Interoperability Resources, or HL7 FHIR®, is \"a standard for exchanging healthcare information electronically\".\n",
                "The FHIR includes multiple components arranged in 5 levels to support healthcare data recording, maintaining, and exchanging [^3].\n",
                "\n",
                "A \"resource\" in FHIR is defined as a data block with specified representing format and metadata [^4].\n",
                "By building resource blocks, the standard can combine blocks and be utilized for precise information processing across systems.\n",
                "There are multiple formats available for FHIR resource definition [^5].\n",
                "\n",
                "FDA released draft structured data standard supporting electronic submission of information related to Pharmaceutical Quality/Chemistry, Manufacturing and Controls (PQ/CMC).\n",
                "The standard is intended for \"concepts that were considered amenable to structuring and would bring value to the quality review process\" [^6]<sup>,</sup>[^7]<sup>,</sup>[^8].\n",
                "Project level information and structure are available in PQ-CMC IG [^9]<sup>,</sup>[^10]."
            ]
        },
        {
            "cell_type": "markdown",
            "metadata": {},
            "source": [
                "## Reference\n",
                "\n",
                "[^1]: HL7. (year). HL7. ([web page](https://info.hl7.org/learn-more))\n",
                "[^2]: HL7. (year). HL7 Essentials. ([web page](https://confluence.hl7.org/display/HE/HL7+Essentials))\n",
                "[^3]: HL7. (year). HL7 FHIR. ([web page](https://www.hl7.org/fhir/))\n",
                "[^4]: HL7. (year). HL7 FHIR Base Resource Definitions. ([web page](https://www.hl7.org/fhir/resource.html))\n",
                "[^5]: HL7. (year). HL7 FHIR Resource Formats. ([web page](https://www.hl7.org/fhir/resource-formats.html))\n",
                "[^6]: FDA. (2017). Standardization of Pharmaceutical Quality/Chemistry Manufacturing and Control Data Elements and Terminologies; Request for Comments. ([web page](https://www.regulations.gov/docket/FDA-2017-N-2166/document))\n",
                "[^7]: FDA. (2022). Draft Pharmaceutical Quality/Chemistry Manufacturing and Controls (PQ/CMC) Data Exchange. ([web page](https://www.fda.gov/media/157085/download?attachment))\n",
                "[^8]: FDA. (2024). Pharmaceutical Quality - Chemistry, Manufacturing & Controls | PQ/CMC. ([web page](https://www.fda.gov/industry/fda-data-standards-advisory-board/pharmaceutical-quality-chemistry-manufacturing-controls-pqcmc))\n",
                "[^9]: HL7. (2024). Pharmaceutical Quality - Chemistry, Manufacturing and Controls (PQ-CMC) Submissions to FDA IG. ([web page](https://build.fhir.org/ig/HL7/FHIR-us-pq-cmc-fda/))\n",
                "[^10]: HL7. (2024). Pharmaceutical Quality - Chemistry, Manufacturing and Controls (PQ-CMC) Submissions to FDA IG. ([github](https://github.com/HL7/FHIR-us-pq-cmc-fda/?tab=readme-ov-file))\n",
                "\n",
                "\n",
                "\n"
            ]
        }
    ],
    "metadata": {
        "kernelspec": {
            "display_name": "Python 3",
            "language": "python",
            "name": "python3"
        },
        "language_info": {
            "codemirror_mode": {
                "name": "ipython",
                "version": 3
            },
            "file_extension": ".py",
            "mimetype": "text/x-python",
            "name": "python",
            "nbconvert_exporter": "python",
            "pygments_lexer": "ipython3",
            "version": "3.10.13"
        }
    },
    "nbformat": 4,
    "nbformat_minor": 4
}
