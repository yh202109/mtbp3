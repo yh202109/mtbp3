{
    "cells": [
        {
            "cell_type": "markdown",
            "metadata": {},
            "source": [
                "# Example - Create Plots Using catPlotter\n",
                "\n",
                "The module `cdtg` include basic functions for processing data and generate plots. "
            ]
        },
        {
            "cell_type": "code",
            "execution_count": null,
            "metadata": {},
            "outputs": [],
            "source": [
                "import warnings\n",
                "warnings.filterwarnings(\"ignore\", category=DeprecationWarning)\n",
                "warnings.filterwarnings(\"ignore\", category=FutureWarning)"
            ]
        },
        {
            "cell_type": "markdown",
            "metadata": {},
            "source": [
                "To create a horizontal box plot:\n"
            ]
        },
        {
            "cell_type": "code",
            "execution_count": null,
            "metadata": {},
            "outputs": [],
            "source": [
                "\n",
                "from mtbp3.util.cdtg import catPlotter \n",
                "\n",
                "cat_plot = catPlotter(None, x_col='Group', y_col='Value', y_scale_base=5, title='An Example')\n",
                "cat_plot.boxplot()"
            ]
        },
        {
            "cell_type": "markdown",
            "metadata": {},
            "source": [
                "To create a line plot:"
            ]
        },
        {
            "cell_type": "code",
            "execution_count": null,
            "metadata": {},
            "outputs": [],
            "source": [
                "cat_plot = catPlotter(None, group_col='CValueGroup', y_col='Value', x_col='CValue', y_scale_base=5, title='Another Example')\n",
                "cat_plot.lineplot()"
            ]
        }
    ],
    "metadata": {
        "kernelspec": {
            "display_name": "Python 3",
            "language": "python",
            "name": "python3"
        },
        "language_info": {
            "codemirror_mode": {
                "name": "ipython",
                "version": 3
            },
            "file_extension": ".py",
            "mimetype": "text/x-python",
            "name": "python",
            "nbconvert_exporter": "python",
            "pygments_lexer": "ipython3",
            "version": "3.12.1"
        }
    },
    "nbformat": 4,
    "nbformat_minor": 4
}
