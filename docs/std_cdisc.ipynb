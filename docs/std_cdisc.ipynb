{
    "cells": [
        {
            "cell_type": "markdown",
            "metadata": {},
            "source": [
                "<!-- \n",
                "    #  Copyright (C) 2023-2024 Y Hsu <yh202109@gmail.com>\n",
                "    #\n",
                "    #  This program is free software: you can redistribute it and/or modify\n",
                "    #  it under the terms of the GNU General Public license as published by\n",
                "    #  the Free software Foundation, either version 3 of the License, or\n",
                "    #  any later version.\n",
                "    #\n",
                "    #  This program is distributed in the hope that it will be useful,\n",
                "    #  but WITHOUT ANY WARRANTY; without even the implied warranty of\n",
                "    #  MERCHANTABILITY or FITNESS FOR A PARTICULAR PURPOSE. See the\n",
                "    #  GNU General Public License for more details\n",
                "    #\n",
                "    #  You should have received a copy of the GNU General Public license\n",
                "    #  along with this program. If not, see <https://www.gnu.org/license/> \n",
                "-->"
            ]
        },
        {
            "cell_type": "markdown",
            "metadata": {},
            "source": [
                "# Std/CDISC/Library Resource\n",
                "\n",
                "CDISC stands for Clinical Data Interchange Standards Consortium. \n",
                "As the name indicated, the organization engages with clinical data community and creates and maintains data standards for clinical developments, \n",
                "such that the planning, creating, storing, using and exchanging of information and records can be processed at a higher level of consistency [^1].\n",
                "\n",
                "The modules `stdcdisc` include basic functions for processing data already prepared with CDISC standards.\n",
                "\n",
                "Please note that this page is not executed while building. \n",
                "Functions and options might be updated as needed.\n",
                "Please visit API reference page for the newest information on this module.\n"
            ]
        },
        {
            "cell_type": "markdown",
            "metadata": {
                "vscode": {
                    "languageId": "plaintext"
                }
            },
            "source": [
                "## CDISC Foundational Standards\n",
                "\n",
                "CDISC standards are used through medicinal product development processes, including nonclinical and clinical data collection, processing, reporting, analyzing and more.\n",
                "CDSIC foundational standards include: \n",
                "\n",
                "- Data collection:\n",
                "    - Clinical Data Acquisition Standards Harmonization (CDASH),\n",
                "    - Clinical Data Acquisition Standards Harmonization Implementation Guide (CDASHIG),\n",
                "- Data Tabulation:\n",
                "    - Standard for Exchange of Nonclinical Data (SEND),\n",
                "    - Standard for Exchange of Nonclinical Data Implementation Guide (SENDIG),\n",
                "    - Study Data Tabulation Model (SDTM),\n",
                "    - Study Data Tabulation Model Implementation Guide (SDTMIG),\n",
                "- Analysis Data Model (ADaM),\n",
                "- Questionnaires, Ratings and Scales (QRS), etc.\n"
            ]
        },
        {
            "cell_type": "markdown",
            "metadata": {
                "vscode": {
                    "languageId": "plaintext"
                }
            },
            "source": [
                "## Select CDISC Version\n",
                "\n",
                "CDISC standards SEND, SDTM, and ADaM are required for electronic study data submitted to CDER and CBER of FDA.  \n",
                "A full list of FDA supported version for CDISC models and IGs is available online [^2].\n",
                "Please note that data model standard and IG versions supported by FDA are determined by \n",
                "comparing the \"study starting date\" with \"Date Support Begins\" and \"Date Support Ends\" within data standard catalog [^3].\n",
                "Please see FDA technical conformance guidance and study data standards catalog for more details [^4].\n"
            ]
        },
        {
            "cell_type": "markdown",
            "metadata": {},
            "source": [
                "## Resources\n",
                "\n",
                "The development of data standards is necessary for utilizing data efficiently.\n",
                "While the standards continuously improving and evolving, \n",
                "the implementation of data standards needs considerable time and effort.\n",
                "\n",
                "Some **must have** documents are available to start with including:\n",
                "\n",
                "- CDISC model main documents\n",
                "- CDISC model IGs \n",
                "- CDSIC model conformance rules \n",
                "- regulatory agencies technical conformance guide\n",
                "- regulatory agencies validation rules (conformance rules and business rules)\n",
                "- community white papers\n"
            ]
        },
        {
            "cell_type": "markdown",
            "metadata": {},
            "source": [
                "## Access CDISC Library Resource\n",
                "\n",
                "Steps: \n",
                "\n",
                "1. To access CDISC library and documents, follow steps here to create cdiscID: https://www.cdisc.org/cdiscid-sign-insign-instructions\n",
                "2. save the key to a file, say \"/user/home/name/cdisc.txt\"\n",
                "3. Use the code below to initiate"
            ]
        },
        {
            "cell_type": "markdown",
            "metadata": {},
            "source": [
                "```python\n",
                "from mtbp3.stdcdisc.lib import accessLib\n",
                "cl = accessLib(\"/user/home/name/cdisc.txt\")\n",
                "```"
            ]
        },
        {
            "cell_type": "markdown",
            "metadata": {},
            "source": [
                "### Get CT Packages\n",
                "\n",
                "CDISC Controlled Terminology (CT) is maintained and distributed as part of the National Cancer Institute (NCI) Thesaurus [^5].\n",
                "CT can be downloaded from NCI FTP and multiple file formats are available (Excel, text, odm.xml, pdf, html, and OWL/RDF formats) [^6].\n",
                "\n",
                "To get a list of newest CT packages available:\n",
                "\n",
                "```python\n",
                "cl.get_ct_list()\n",
                "print(cl.ct_list_titles)\n",
                "```"
            ]
        },
        {
            "cell_type": "markdown",
            "metadata": {},
            "source": [
                "Output:\n",
                "\n",
                "```\n",
                "['ADaM', 'CDASH', 'COA', 'DDF', 'Define-XML', 'Glossary', 'MRCT', 'Protocol', 'QRS', 'QS-FT', 'SDTM', 'SEND']\n",
                "```"
            ]
        },
        {
            "cell_type": "markdown",
            "metadata": {},
            "source": [
                "Some notes about these titles:\n",
                "\n",
                "- DDF: digital data flow.\n",
                "- MRCT: multi-regional clinical trials\n",
                "- COA: clinical outcome assessment. This is an archived version. COA is part of QRS supplement supporting FDA COA qualification program [^7].\n",
                "- QRS: questionnaires, ratings and scales. This is an archived version. QRS SDTM CT is currently included in SDTM CT. \n",
                "- QS-FT: questionnaire and functional test. This is an archived version. This set was merged into COA [^8]."
            ]
        },
        {
            "cell_type": "markdown",
            "metadata": {},
            "source": [
                "To show package effective date:\n",
                "\n",
                "```python\n",
                "print(cl.ct_list[['Title','PkgSeries','Effective']])\n",
                "```\n",
                "\n",
                "Output:\n",
                "\n",
                "```\n",
                "         Title PkgSeries   Effective\n",
                "0         ADaM        57  2024-03-29\n",
                "1        CDASH        52  2022-12-16\n",
                "2          COA        21  2015-03-27\n",
                "3          DDF        57  2024-03-29\n",
                "4   Define-XML        57  2024-03-29\n",
                "5     Glossary        56  2023-12-15\n",
                "6         MRCT        57  2024-03-29\n",
                "7     Protocol        57  2024-03-29\n",
                "8          QRS        23  2015-09-25\n",
                "9        QS-FT        19  2014-09-26\n",
                "10        SDTM        57  2024-03-29\n",
                "11        SEND        57  2024-03-29\n",
                "```\n"
            ]
        },
        {
            "cell_type": "markdown",
            "metadata": {},
            "source": [
                "To get the newest protocol ct package information:\n",
                "\n",
                "```python\n",
                "import json\n",
                "\n",
                "cl.get_ct_package('Protocol')\n",
                "print(json.dumps(cl.ct_package['Protocol']['package_info']))\n",
                "```\n",
                "\n",
                "Output:\n",
                "\n",
                "```\n",
                "{\n",
                "    \"description\": \"CDISC Controlled Terminology for Protocol is the set of CDISC-developed or CDISC-adopted standard expressions (values) used with data items within CDISC-defined PROTOCOL datasets.\",\n",
                "    \"effectiveDate\": \"2024-03-29\",\n",
                "    \"label\": \"Protocol Controlled Terminology Package 57 Effective 2024-03-29\",\n",
                "    \"name\": \"Protocol CT 2024-03-29\",\n",
                "    \"source\": \"Protocol Controlled Terminology developed by the CDISC Terminology Team in collaboration with the National Cancer Institute's Enterprise Vocabulary Services (EVS)\",\n",
                "    \"registrationStatus\": \"Final\",\n",
                "    \"version\": \"2024-03-29\"\n",
                "}\n",
                "```"
            ]
        },
        {
            "cell_type": "markdown",
            "metadata": {},
            "source": [
                "To get the newest protocol ct package information:\n",
                "\n",
                "```python\n",
                "title = 'Protocol'\n",
                "cl = accessLib(\"/Users/yh2020/cdisc.txt\")\n",
                "cl.get_ct_list()\n",
                "cl.get_ct_package(title)\n",
                "cl.get_ct_codelists_df(title)\n",
                "print(cl.ct_package[title]['ct_df'][['conceptId', 'name', 'preferredTerm']].head())\n",
                "```\n",
                "\n",
                "Output:\n",
                "\n",
                "```\n",
                "  conceptId                                      name                                      preferredTerm\n",
                "0   C179587   Biological Sample Attribute Terminology  CDISC Protocol Biological Sample Attribute Ter...\n",
                "1   C201266           Biomarker Attribute Terminology     CDISC Protocol Biomarker Attribute Terminology\n",
                "2   C201267  Biomarker Category Value Set Terminology  CDISC Protocol Biomarker Category Value Set Te...\n",
                "3   C142191      Clinical Study Attribute Terminology  CDISC Protocol Entities Clinical Study Attribu...\n",
                "4   C139020      Clinical Trial Attribute Terminology  CDISC Protocol Entities Clinical Trial Attribu...\n",
                "```"
            ]
        },
        {
            "cell_type": "markdown",
            "metadata": {},
            "source": [
                "## Reference\n",
                "\n",
                "[^1]: CDISC. (year). CDISC Standards. ([web page](https://www.cdisc.org/standards))\n",
                "[^2]: FDA. (year). Data Standards Resource. ([web page](https://www.fda.gov/industry/fda-data-standards-advisory-board/study-data-standards-resources))\n",
                "[^3]: FDA. (year). Data Standards Catalog. ([web page](https://www.fda.gov/regulatory-information/search-fda-guidance-documents/data-standards-catalog))\n",
                "[^4]: FDA. (year). Study Data Technical Conformance Guide. ([web page](https://www.fda.gov/regulatory-information/search-fda-guidance-documents/study-data-technical-conformance-guide-technical-specifications-document))\n",
                "[^5]: NCI. (year). NCI Thesaurus (NCIt). ([web page](https://ncit.nci.nih.gov/ncitbrowser/))\n",
                "[^6]: NCI. (year). CDISC Terminology. ([web page](https://datascience.cancer.gov/resources/cancer-vocabulary/cdisc-terminology))\n",
                "[^7]: FDA. (2023). Clinical Outcome Assessment (COA) Qualification Program. ([web page](https://www.fda.gov/drugs/drug-development-tool-ddt-qualification-programs/clinical-outcome-assessment-coa-qualification-program))\n",
                "[^8]: P21. (2015). CDISC Questionnaire and Functional Test (QS-FT) Terminology has been deprecated. ([web page](https://www.pinnacle21.com/forum/cdisc-questionnaire-and-functional-test-qs-ft-terminology-has-been-deprecated))\n",
                "\n",
                "\n",
                "\n",
                "\n",
                "\n"
            ]
        }
    ],
    "metadata": {
        "kernelspec": {
            "display_name": "Python 3",
            "language": "python",
            "name": "python3"
        },
        "language_info": {
            "codemirror_mode": {
                "name": "ipython",
                "version": 3
            },
            "file_extension": ".py",
            "mimetype": "text/x-python",
            "name": "python",
            "nbconvert_exporter": "python",
            "pygments_lexer": "ipython3",
            "version": "3.10.13"
        }
    },
    "nbformat": 4,
    "nbformat_minor": 4
}
