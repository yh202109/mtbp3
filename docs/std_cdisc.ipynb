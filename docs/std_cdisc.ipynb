{
    "cells": [
        {
            "cell_type": "markdown",
            "metadata": {},
            "source": [
                "<!-- \n",
                "    #  Copyright (C) 2023-2024 Y Hsu <yh202109@gmail.com>\n",
                "    #\n",
                "    #  This program is free software: you can redistribute it and/or modify\n",
                "    #  it under the terms of the GNU General Public license as published by\n",
                "    #  the Free software Foundation, either version 3 of the License, or\n",
                "    #  any later version.\n",
                "    #\n",
                "    #  This program is distributed in the hope that it will be useful,\n",
                "    #  but WITHOUT ANY WARRANTY; without even the implied warranty of\n",
                "    #  MERCHANTABILITY or FITNESS FOR A PARTICULAR PURPOSE. See the\n",
                "    #  GNU General Public License for more details\n",
                "    #\n",
                "    #  You should have received a copy of the GNU General Public license\n",
                "    #  along with this program. If not, see <https://www.gnu.org/license/> \n",
                "-->"
            ]
        },
        {
            "cell_type": "markdown",
            "metadata": {},
            "source": [
                "# Std/CDISC/Basics\n",
                "\n",
                "CDISC stands for Clinical Data Interchange Standards Consortium. \n",
                "As the name indicated, the organization engages with clinical data community and creates and maintains data standards for clinical developments, \n",
                "such that the planning, creating, storing, using and exchanging of information and records can be processed at a higher level of consistency [^1].\n",
                "\n",
                "The modules `stdcdisc` include basic functions for processing data already prepared with CDISC standards. "
            ]
        },
        {
            "cell_type": "markdown",
            "metadata": {
                "vscode": {
                    "languageId": "plaintext"
                }
            },
            "source": [
                "## CDISC Foundational Standards\n",
                "\n",
                "CDISC standards are used through medicinal product development processes, including nonclinical and clinical data collection, processing, reporting, analyzing and more.\n",
                "CDSIC foundational standards include: \n",
                "\n",
                "- Data collection:\n",
                "    - Clinical Data Acquisition Standards Harmonization (CDASH),\n",
                "    - Clinical Data Acquisition Standards Harmonization Implementation Guide (CDASHIG),\n",
                "- Data Tabulation:\n",
                "    - Standard for Exchange of Nonclinical Data (SEND),\n",
                "    - Standard for Exchange of Nonclinical Data Implementation Guide (SENDIG),\n",
                "    - Study Data Tabulation Model (SDTM),\n",
                "    - Study Data Tabulation Model Implementation Guide (SDTMIG),\n",
                "- Analysis Data Model (ADaM),\n",
                "- Questionnaires, Ratings and Scales (QRS), etc.\n"
            ]
        },
        {
            "cell_type": "markdown",
            "metadata": {
                "vscode": {
                    "languageId": "plaintext"
                }
            },
            "source": [
                "## Select CDISC Version\n",
                "\n",
                "CDISC standards SEND, SDTM, and ADaM are required for electronic study data submitted to CDER and CBER of FDA.  \n",
                "A full list of FDA supported version for CDISC models and IGs is available online [^2].\n",
                "Please note that data model standard and IG versions supported by FDA are determined by \n",
                "comparing the \"study starting date\" with \"Date Support Begins\" and \"Date Support Ends\" within data standard catalog [^3].\n",
                "Please see FDA technical conformance guidance and study data standards catalog for more details [^4].\n"
            ]
        },
        {
            "cell_type": "markdown",
            "metadata": {},
            "source": [
                "## Resources\n",
                "\n",
                "The development of data standards is necessary for utilizing data efficiently.\n",
                "While the standards continuously improving and evolving, \n",
                "the implementation of data standards needs considerable time and effort.\n",
                "\n",
                "Some **must have** documents are available to start with including:\n",
                "\n",
                "- CDISC model main documents\n",
                "- CDISC model IGs \n",
                "- CDSIC model conformance rules \n",
                "- regulatory agencies technical conformance guide\n",
                "- regulatory agencies validation rules (conformance rules and business rules)\n",
                "- community white papers\n"
            ]
        },
        {
            "cell_type": "markdown",
            "metadata": {},
            "source": [
                "## CDISC Library Resource\n",
                "\n",
                "Steps: \n",
                "\n",
                "1. To access CDISC library and documents, follow steps here to create cdiscID: https://www.cdisc.org/cdiscid-sign-insign-instructions\n",
                "2. save the key to a file, say \"/user/home/name/cdisc.txt\"\n",
                "3. Use the code below to initiate"
            ]
        },
        {
            "cell_type": "markdown",
            "metadata": {},
            "source": [
                "```python\n",
                "from mtbp3.stdcdisc.lib import accessLib\n",
                "cl = accessLib(\"/user/home/name/cdisc.txt\")\n",
                "```"
            ]
        },
        {
            "cell_type": "markdown",
            "metadata": {},
            "source": [
                "The connection requires personal key. \n",
                "Therefore, this pages does not include test code demonstrations.\n",
                "Please see API Reference for functions included in `stdcdisc.lib`."
            ]
        },
        {
            "cell_type": "markdown",
            "metadata": {},
            "source": [
                "## Reference\n",
                "\n",
                "[^1]: CDISC. (year). CDISC Standards. ([web page](https://www.cdisc.org/standards))\n",
                "[^2]: FDA. (year). Data Standards Resource. ([web page](https://www.fda.gov/industry/fda-data-standards-advisory-board/study-data-standards-resources))\n",
                "[^3]: FDA. (year). Data Standards Catalog. ([web page](https://www.fda.gov/regulatory-information/search-fda-guidance-documents/data-standards-catalog))\n",
                "[^4]: FDA. (year). Study Data Technical Conformance Guide. ([web page](https://www.fda.gov/regulatory-information/search-fda-guidance-documents/study-data-technical-conformance-guide-technical-specifications-document))\n",
                "\n",
                "\n",
                "\n",
                "\n",
                "\n"
            ]
        }
    ],
    "metadata": {
        "kernelspec": {
            "display_name": "Python 3",
            "language": "python",
            "name": "python3"
        },
        "language_info": {
            "codemirror_mode": {
                "name": "ipython",
                "version": 3
            },
            "file_extension": ".py",
            "mimetype": "text/x-python",
            "name": "python",
            "nbconvert_exporter": "python",
            "pygments_lexer": "ipython3",
            "version": "3.10.13"
        }
    },
    "nbformat": 4,
    "nbformat_minor": 4
}
