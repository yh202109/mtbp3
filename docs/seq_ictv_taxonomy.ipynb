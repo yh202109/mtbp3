{
 "cells": [
  {
   "cell_type": "markdown",
   "metadata": {},
   "source": [
    "# Seq/ICTV/MSL\n",
    "\n",
    "International Committee on Taxonomy of Viruses (ICTV) [^1] maintains a database [^2] of virus taxonomic classification [^3].\n",
    "The Master Species Lists (MSL) [^4] provides \"the official, current virus taxonomy approved by the ICTV\".\n",
    "The Virus Metadata Resource (VMR) [^5] provides \"exemplars and additional isolates for each virus species\".\n"
   ]
  },
  {
   "cell_type": "markdown",
   "metadata": {},
   "source": [
    "## An Example\n",
    "\n",
    "ICTV provides MSL downloads in .xlsx [^4], web version of interactive search [^6], and visual taxonomy browser [^7].\n",
    "For example, if we are interested in studying the virus causing feline acquired immunodeficiency syndrome [^8], we can find the following taxonomy information in the ICTV MSL:\n",
    "\n",
    "| Column name | value |\n",
    "| --- | --- |\n",
    "| Realm | Riboviria |\n",
    "| Subrealm |  |\n",
    "| Kingdom | Pararnavirae |\n",
    "| Subkingdom |  |\n",
    "| Phylum | Artverviricota |\n",
    "| Subphylum |  |\n",
    "| Class | Revtraviricetes |\n",
    "| Subclass |  |\n",
    "| Order | Ortervirales |\n",
    "| Suborder |  |\n",
    "| Family | Retroviridae |\n",
    "| Subfamily | Orthoretrovirinae |\n",
    "| Genus | Lentivirus |\n",
    "| Subgenus |  |\n",
    "| Species | Lentivirus felimdef |\n",
    "| Genome | ssRNA-RT |\n",
    "| Last Change | Renamed, |\n",
    "| MSL of Last Change | 39 |\n",
    "| Proposal for Last Change | 2023.009D.Retroviridae_68rensp.zip |\n",
    "| Taxon History URL | ictv.global=202305029 |\n",
    "\n",
    "From the taxon history, we can see that the specie name was *Feline immunodeficiency virus* (FIV) in the previous releases, and changed to *Lentivirus felimdef* in the 2023 release [^9].\n",
    "The reasons of changes proposed are included in the *Proposal for Last Change* link.\n",
    "Additional information about FIV, for example, about the genus *Lentivirus*, can be found in ICTV report [^10].\n",
    "                                "
   ]
  },
  {
   "cell_type": "markdown",
   "metadata": {},
   "source": [
    "## How to\n",
    "\n",
    "The module `mtbp3.seq.ictvmsiview` accept a csv file exported from the MSL tab of MSL download file.\n",
    "The csv file path can be assigned using the option `msl_file_path`.\n",
    "For demonstration, a small subset of MSL (containing only 15 rows) is shipped with this module.\n",
    "When using the option `msl_file_path = \"\"`, the example file will be loaded.\n",
    "\n",
    "To load a MSL csv file:"
   ]
  },
  {
   "cell_type": "code",
   "execution_count": null,
   "metadata": {
    "vscode": {
     "languageId": "plaintext"
    }
   },
   "outputs": [],
   "source": [
    "from mtbp3.seq import ictvmslview\n",
    "msl = ictvmslview.ictvmsl(msl_file_path = \"\")\n"
   ]
  },
  {
   "cell_type": "markdown",
   "metadata": {},
   "source": [
    "To view the first row of loaded file:"
   ]
  },
  {
   "cell_type": "code",
   "execution_count": null,
   "metadata": {
    "vscode": {
     "languageId": "plaintext"
    }
   },
   "outputs": [],
   "source": [
    "print(msl.msl.iloc[0].transpose())"
   ]
  },
  {
   "cell_type": "markdown",
   "metadata": {},
   "source": [
    "To view the unique values of 'Realm' in the file and number of rows under each realm:"
   ]
  },
  {
   "cell_type": "code",
   "execution_count": null,
   "metadata": {
    "vscode": {
     "languageId": "plaintext"
    }
   },
   "outputs": [],
   "source": [
    "msl.msl['Realm'].value_counts()"
   ]
  },
  {
   "cell_type": "markdown",
   "metadata": {},
   "source": [
    "The counts above are from the example file (only 15 rows in total).\n",
    "The MSL 39v4 includes the following realms:\n",
    "\n",
    "| Realm | Count of Species |\n",
    "| --- | --- |\n",
    "| Adnaviria     |    32 |\n",
    "| Duplodnaviria |  4973 |\n",
    "| Monodnaviria  |  2028 |\n",
    "| Riboviria     |  6712 |\n",
    "| Ribozyviria   |    21 |\n",
    "| Varidnaviria  |   288 |\n",
    "\n",
    "Please note that the column names will be used as `search_rank` in this module and those are case sensitive.\n",
    "The `search_str` is not case sensitive, as shown below.\n",
    "\n",
    "To search for rows with \"lentivirus fel\" included in a species name:"
   ]
  },
  {
   "cell_type": "code",
   "execution_count": null,
   "metadata": {
    "vscode": {
     "languageId": "plaintext"
    }
   },
   "outputs": [],
   "source": [
    "print(msl.find_rows_given_str(search_str=\"lentivirus fel\", color=\"red\").iloc[0].transpose())"
   ]
  },
  {
   "cell_type": "markdown",
   "metadata": {},
   "source": [
    "To search for rows with \"lentivirus\" included in species: "
   ]
  },
  {
   "cell_type": "code",
   "execution_count": null,
   "metadata": {
    "vscode": {
     "languageId": "plaintext"
    }
   },
   "outputs": [],
   "source": [
    "print(msl.find_rows_given_str(search_str=\"lentivirus\", search_rank=\"Species\", color=\"red\", narrow=True)[['Genus', 'Species','Genome']])"
   ]
  },
  {
   "cell_type": "markdown",
   "metadata": {},
   "source": [
    "To search for rows with \"lentivirus\" as Genus using `exact=True` option (partly exact, the searching is still not case sensitive): "
   ]
  },
  {
   "cell_type": "code",
   "execution_count": null,
   "metadata": {
    "vscode": {
     "languageId": "plaintext"
    }
   },
   "outputs": [],
   "source": [
    "print(msl.find_rows_given_str(search_str=\"lentivirus\", search_rank=\"Genus\", color=\"red\", narrow=True, exact=True)[['Family','Genus','Species']])"
   ]
  },
  {
   "cell_type": "code",
   "execution_count": null,
   "metadata": {
    "vscode": {
     "languageId": "plaintext"
    }
   },
   "outputs": [],
   "source": [
    "print('\\n'.join(msl.find_rows_given_str(search_str=\"lentivirus\", search_rank=\"Genus\", color=\"red\", outfmt='tree', exact=True)))"
   ]
  },
  {
   "cell_type": "markdown",
   "metadata": {},
   "source": [
    "## Reference\n",
    "\n",
    "[^1]: ICTV. (2024). About Virus Taxonomic Classification. ([web page](https://ictv.global/taxonomy/about))\n",
    "[^2]: Elliot J Lefkowitz, Donald M Dempsey, Robert Curtis Hendrickson, Richard J Orton, Stuart G Siddell, Donald B Smith, Virus taxonomy: the database of the International Committee on Taxonomy of Viruses (ICTV), Nucleic Acids Research, Volume 46, Issue D1, 4 January 2018, Pages D708–D717, https://doi.org/10.1093/nar/gkx932\n",
    "[^3]: wiki. (year). Virus classification. ([web page](https://en.wikipedia.org/wiki/Virus_classification))\n",
    "[^4]: ICTV. (2024). Master Species Lists (MSL). ([web page](https://ictv.global/msl))\n",
    "[^5]: ICTV. (2024). Virus Metadata Resource (VMR). ([web page](https://ictv.global/vmr))\n",
    "[^6]: ICTV. (2024). Current ICTV Taxonomy Release. ([web page](https://ictv.global/taxonomy))\n",
    "[^7]: ICTV. (2024). Visual Taxonomy Browser. ([web page](https://ictv.global/taxonomy/visual-browser))\n",
    "[^8]: Sykes J. E. (2014). Feline Immunodeficiency Virus Infection. Canine and Feline Infectious Diseases, 209–223. ([web page](https://doi.org/10.1016/B978-1-4377-0795-3.00021-1))\n",
    "[^9]: ICTV. (2023). History of the taxon. ([web page](https://ictv.global/taxonomy/taxondetails?taxnode_id=202305029))\n",
    "[^10]: ICTV. (year). The ICTV Report on Virus Classification and Taxon Nomenclature. ([web page](https://ictv.global/report/chapter/retroviridae/retroviridae/lentivirus))\n",
    "\n",
    "\n"
   ]
  }
 ],
 "metadata": {
  "kernelspec": {
   "display_name": "Python 3",
   "language": "python",
   "name": "python3"
  },
  "language_info": {
   "codemirror_mode": {
    "name": "ipython",
    "version": 3
   },
   "file_extension": ".py",
   "mimetype": "text/x-python",
   "name": "python",
   "nbconvert_exporter": "python",
   "pygments_lexer": "ipython3",
   "version": "3.10.13"
  }
 },
 "nbformat": 4,
 "nbformat_minor": 4
}
