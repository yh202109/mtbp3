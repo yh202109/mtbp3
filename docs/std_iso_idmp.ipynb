{
    "cells": [
        {
            "cell_type": "markdown",
            "metadata": {},
            "source": [
                "<!-- \n",
                "    #  Copyright (C) 2023-2024 Y Hsu <yh202109@gmail.com>\n",
                "    #\n",
                "    #  This program is free software: you can redistribute it and/or modify\n",
                "    #  it under the terms of the GNU General Public license as published by\n",
                "    #  the Free software Foundation, either version 3 of the License, or\n",
                "    #  any later version.\n",
                "    #\n",
                "    #  This program is distributed in the hope that it will be useful,\n",
                "    #  but WITHOUT ANY WARRANTY; without even the implied warranty of\n",
                "    #  MERCHANTABILITY or FITNESS FOR A PARTICULAR PURPOSE. See the\n",
                "    #  GNU General Public License for more details\n",
                "    #\n",
                "    #  You should have received a copy of the GNU General Public license\n",
                "    #  along with this program. If not, see <https://www.gnu.org/license/> \n",
                "-->"
            ]
        },
        {
            "cell_type": "markdown",
            "metadata": {},
            "source": [
                "# Std/ISO/IDMP\n",
                "\n",
                "IDMP stands for Identification of Medicinal Products, \n",
                "which consists five standards related to data elements, formats, and structures \n",
                "for communicating information related to medicinal products during development, clinical trials, regulatory submission, post approval monitoring, etc. \n",
                "ISO IDMP standards are maintained by the International Organization for Standardization (ISO)[^1] \n",
                "and utilized by FDA[^2] and required by EMA  [^3]<sup>,</sup>[^4]. \n",
                "\n",
                "ISO IDMP includes five standards:\n",
                " \n",
                "- ISO 11615 / ISO TS20443 / Medicinal Product Identification (MPID) \n",
                "- ISO 11616 / ISO TS20451 / Pharmaceutical Product Identifier (PhPID)\n",
                "- ISO 11238 / ISO TS19844 / Substance Identification (SubID)\n",
                "- ISO 11239 / ISO TS20440 / Dosage Form and Route of Administration\n",
                "- ISO 11240 / Units of Measurement (UoM)\n",
                "\n",
                "The two ISO numbers above are the main standard and technical specification guide. \n"
            ]
        },
        {
            "cell_type": "markdown",
            "metadata": {},
            "source": [
                "## EMA Implementation of IDMP\n",
                "\n",
                "IDMP is mandated by the EU legislation \n",
                "(Article 25 *Use of internationally agreed terminology* and \n",
                "26 *Use of internationally agreed formats and standards* of \n",
                "Implementing Regulation (EU) No 520/2012), \n",
                "The plan of migrating to IDMP format for submission to EMA is through phases based on the SPOR (Substances, products, organisations and referentials) data system.\n",
                "\n",
                "### EU Database - xEVMPD\n",
                "\n",
                "The currently mandatory human use medicinal product information database is\n",
                "Extended EudraVigilance medicinal product dictionary (xEVMPD), \n",
                "which is based on Extended EudraVigilance Product Report Message (xEVPRM) format [^6],\n",
                "Submissions are mandated to support the format by Article 81 *EU database* of Clinical Trial Regulation (EU) No 536/2014.\n",
                "The format of product information will be migrated to IDMP by planned phases.\n",
                "\n",
                "### UNICOM project\n",
                "\n",
                "UNICOM is a four years project (2019-2023) that generated discussions and resources for implementation of IDMP standards,\n",
                "testing, regulatory uses of data standards, and harmonizing data formats [^7]. \n",
                "\n"
            ]
        },
        {
            "cell_type": "markdown",
            "metadata": {},
            "source": [
                "## The IDMP Ontology Project Pistoia Alliance \n",
                "\n",
                "The IDMP Ontology project focus on implementation resources and provides digital access of IDMP standards data model [^8]<sup>,</sup>[^9]."
            ]
        },
        {
            "cell_type": "markdown",
            "metadata": {},
            "source": [
                "## Reference\n",
                "\n",
                "[^1]: ISO. (2017). Revised IDMP standards to improve description of medicinal products worldwide. ([web page](https://www.iso.org/news/ref2234.html))\n",
                "[^2]: FDA. (year). Identification of Medicinal Products (IDMP). ([web page](https://www.fda.gov/industry/fda-data-standards-advisory-board/identification-medicinal-products-idmp))\n",
                "[^3]: EMA. (year). Data on medicines (ISO IDMP standards): Overview. ([web page](https://www.ema.europa.eu/en/human-regulatory-overview/research-development/data-medicines-iso-idmp-standards-overview))\n",
                "[^4]: EMA. (2016). Introduction to ISO Identification of Medicinal Products, SPOR programme. ([pdf](https://www.ema.europa.eu/en/documents/other/introduction-iso-identification-medicinal-products-spor-programme_en.pdf))\n",
                "[^5]: EMA. (year). SPOR. ([web page](https://spor.ema.europa.eu/sporwi/))\n",
                "[^6]: EMA. (2024). Guidance on the electronic submission of information on investigational medicinal products for human use in the Extended EudraVigilance medicinal product dictionary (XEVMPD). ([pdf](https://www.ema.europa.eu/en/documents/other/guidance-electronic-submission-information-investigational-medicinal-products-human-use-extended-eudravigilance-medicinal-product-dictionary-xevmpd_en.pdf))\n",
                "[^7]: UNICOM. (2024). About Unicom. ([web page](https://unicom-project.eu/about/))\n",
                "[^8]: Pistoia Alliance. (2024). The IDMP Ontology. ([pdf](https://marketing.pistoiaalliance.org/hubfs/Projects-Innovation/Ontology/PA_IDMP-Ontology_Executive-Project-Summary.pdf))\n",
                "[^9]: Pistoia Alliance. (2024). ([web page](https://spec.edmcouncil.org/idmp/ontology))"
            ]
        }
    ],
    "metadata": {
        "kernelspec": {
            "display_name": "Python 3",
            "language": "python",
            "name": "python3"
        },
        "language_info": {
            "codemirror_mode": {
                "name": "ipython",
                "version": 3
            },
            "file_extension": ".py",
            "mimetype": "text/x-python",
            "name": "python",
            "nbconvert_exporter": "python",
            "pygments_lexer": "ipython3",
            "version": "3.10.13"
        }
    },
    "nbformat": 4,
    "nbformat_minor": 4
}
