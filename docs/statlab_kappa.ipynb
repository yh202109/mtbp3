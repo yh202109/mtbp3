{
    "cells": [
        {
            "cell_type": "markdown",
            "metadata": {},
            "source": [
                "# StatLab/Cohen's Kappa for inter-rater reliability\n",
                "\n",
                "## Background\n",
                "\n",
                "Cohen's kappa is a statistic used for describing, summarizing, estimating and testing inter-ratter consistency. \n",
                "\n"
            ]
        },
        {
            "cell_type": "markdown",
            "metadata": {},
            "source": [
                "## Notation\n",
                "\n",
                "For two categories rating, assume ",
		r":math:`Y_{r,i} \\\\in \\\\{A,B\\\\}`",
		" for rater ",
		r":math:`r=1,2`",
		" and sample index :math:`i = 1, \\ldots, n`.\n",
                "\n",
                "|     | R2: A | R2: B | Total |\n",
                "| -------- | ------- | ------- | ------- |\n",
                "| R1: A | :math:`N_{11}` | :math:`N_{12}` | :math:`N_{1\\bullet}` |\n",
                "| R1: B | :math:`N_{21}` | :math:`N_{22}` | :math:`N_{2\\bullet}` |\n",
                "| Total | :math:`N_{\\bullet 1}` | :math:`N_{\\bullet 2}` | :math:`N_{\\bullet \\bullet}` |\n",
                "\n",
                "For three and more categories rating, assume :math:`Y_{r,i} \\in \\{A,B,C, \\ldots \\}` for rater $r=1,2$ and sample index :math:`i = 1, \\ldots, n`.\n",
                "\n",
                "|     | R2: A | R2: B | R2: C | :math:`\\ldots` |  Total |\n",
                "| -------- | ------- | ------- | ------- | ------- | - |\n",
                "| R1: A | $N_{11}$ | $N_{12}$ | $N_{13}$ | $\\ldots$ | $N_{1\\bullet}$ |\n",
                "| R1: B | $N_{21}$ | $N_{22}$ | $N_{23}$ | $\\ldots$ | $N_{2\\bullet}$ |\n",
                "| R1: C | $N_{31}$ | $N_{32}$ | $N_{33}$ | $\\ldots$ | $N_{3\\bullet}$ |\n",
                "| $\\vdots$ | $\\vdots$ | $\\vdots$ | $\\vdots$ | $\\ddots$ | $\\vdots$ |\n",
                "| Total | $N_{\\bullet 1}$ | $N_{\\bullet 2}$ | $N_{\\bullet 2}$ | $\\ldots$ | $N_{\\bullet\\bullet}$ |\n"
            ]
        },
        {
            "cell_type": "markdown",
            "metadata": {},
            "source": [
                "\n",
                "The observed raw percentage of agreement is defined as $$p_O = \\sum_{j=1}^J N_{jj} / N_{\\bullet\\bullet}$$ where $J \\geq 2$ is the size of value set.\n",
                "\n"
            ]
        },
        {
            "cell_type": "markdown",
            "metadata": {},
            "source": [
                "Assume that \n"
            ]
        },
        {
            "cell_type": "markdown",
            "metadata": {
                "vscode": {
                    "languageId": "raw"
                }
            },
            "source": [
                ".. math:: \n",
                "$$(N_{1\\bullet}, \\ldots N_{J\\bullet}) \\sim multi(N_{\\bullet \\bullet}, (p_{r=1,1}, \\ldots, p_{r=1,J})),$$ \n",
                "   :label: njdot"
            ]
        },
        {
            "cell_type": "markdown",
            "metadata": {},
            "source": [
                "\n",
                "\n",
                "and\n",
                "$$(N_{\\bullet 1}, \\ldots N_{\\bullet J}) \\sim multi(N_{\\bullet \\bullet}, (p_{r=2,1}, \\ldots, p_{r=2,J})),$$ \n",
                "with $\\sum N_{j \\bullet} = \\sum N_{\\bullet j} = N_{\\bullet \\bullet}$ \n",
                "and $\\sum p_{r=1,j} = \\sum p_{r=2, j} = 1$.\n",
                "\n",
                "Under independence assumption, the expected number of agreement is estimated by\n",
                "$$ \\sum_{j=1}^J\\hat{E}_{j} = \\frac{1}{N_{\\bullet \\bullet}}\\sum_{j=1}^J N_{\\bullet j} N_{j\\bullet} \\equiv N_{\\bullet \\bullet}p_E $$\n"
            ]
        },
        {
            "cell_type": "markdown",
            "metadata": {},
            "source": [
                "The $\\kappa$ statistic is calculated as\n",
                "$$\\kappa = \\frac{p_O - p_E}{1-p_E}$$\n",
                "The SE of $\\kappa$ is calculated as\n",
                "$$\\sqrt{\\frac{p_O(1-p_O)}{N_{\\bullet \\bullet}(1-p_E)^2}}$$\n"
            ]
        },
        {
            "cell_type": "markdown",
            "metadata": {},
            "source": [
                "## Interpretation in Literature\n",
                "\n",
                "Cohen (1960)[^1] suggested the Kappa result be interpreted as follows: \n",
                "\n",
                "| Value of $\\kappa$ | Interpretation |\n",
                "| - | - |\n",
                "| $\\kappa \\leq 0$ | indicating no agreement |\n",
                "| $0 < \\kappa \\leq 0.2$   | none to slight  |\n",
                "| $0.2 < \\kappa \\leq 0.4$ | fair  |\n",
                "| $0.4 < \\kappa \\leq 0.6$ | moderate  |\n",
                "| $0.6 < \\kappa \\leq 0.8$ | substantial  |\n",
                "| $0.8 < \\kappa \\leq 1$   | almost perfect agreement |"
            ]
        },
        {
            "cell_type": "markdown",
            "metadata": {
                "vscode": {
                    "languageId": "plaintext"
                }
            },
            "source": [
                "Interpretation suggested by McHugh (2012)[^2]:\n",
                "\n",
                "| Value of $\\kappa$ | Level of Agreement | % of Data that are Reliable |\n",
                "| - | - | - |\n",
                "| -1 to 0 | Disagreement | NA |\n",
                "| 0–.20\t| None | 0–4% |\n",
                "| .21–.39 | Minimal | 4–15% |\n",
                "| .40–.59 | Weak | 15–35% |\n",
                "| .60–.79 | Moderate | 35–63% |\n",
                "| .80–.90 | Strong | 64–81% |\n",
                "| Above.90 | Almost Perfect | 82–100% |\n"
            ]
        },
        {
            "cell_type": "markdown",
            "metadata": {},
            "source": [
                "## Example - Group 1\n"
            ]
        },
        {
            "cell_type": "code",
            "execution_count": null,
            "metadata": {},
            "outputs": [],
            "source": [
                "from sklearn.metrics import cohen_kappa_score"
            ]
        },
        {
            "cell_type": "markdown",
            "metadata": {},
            "source": [
                "\n",
                "### Ex-1.1  \n",
                "\n",
                "|     | R2: A | R2: B | Total |\n",
                "| - | - | - | - |\n",
                "| R1: A | 9 | 21 | 30 |\n",
                "| R1: B | 21 | 49 | 70 |\n",
                "| Total | 30 | 70 | 100 |"
            ]
        },
        {
            "cell_type": "code",
            "execution_count": null,
            "metadata": {},
            "outputs": [],
            "source": [
                "r1 = ['A'] * 30 + ['B'] * 70\n",
                "r2 = ['A'] * 9 + ['B'] * 21 + ['A'] * 21 + ['B'] * 49\n",
                "\n",
                "print(\"Cohen's kappa:\", cohen_kappa_score(r1, r2))"
            ]
        },
        {
            "cell_type": "markdown",
            "metadata": {},
            "source": [
                "### Ex-1.2\n",
                "\n",
                "Note that $kappa$ is for nominal ratting values.\n",
                "Change the order of values does not have impact on $kappa$. \n",
                "\n",
                "|     | R2: A | R2: B | Total |\n",
                "| - | - | - | - |\n",
                "| R1: A | 49 | 21 | 70 |\n",
                "| R1: B | 21 | 9 | 30 |\n",
                "| Total | 70 | 30 | 100 |"
            ]
        },
        {
            "cell_type": "code",
            "execution_count": null,
            "metadata": {},
            "outputs": [],
            "source": [
                "r1 = ['B'] * 30 + ['A'] * 70\n",
                "r2 = ['B'] * 9 + ['A'] * 21 + ['B'] * 21 + ['A'] * 49\n",
                "\n",
                "print(\"Cohen's kappa:\", cohen_kappa_score(r1, r2))"
            ]
        },
        {
            "cell_type": "markdown",
            "metadata": {},
            "source": [
                "### Ex-1.3\n",
                "\n",
                "This is an example with higher disagreement counts (R1: A and R2: B).\n",
                "\n",
                "|     | R2: A | R2: B | Total |\n",
                "| - | - | - | - |\n",
                "| R1: A | 21 | 49 | 70 |\n",
                "| R1: B | 9 | 21 | 30 |\n",
                "| Total | 30 | 70 | 100 |"
            ]
        },
        {
            "cell_type": "code",
            "execution_count": null,
            "metadata": {},
            "outputs": [],
            "source": [
                "r1 = ['B'] * 30 + ['A'] * 70\n",
                "r2 = ['A'] * 9 + ['B'] * 21 + ['A'] * 21 + ['B'] * 49\n",
                "\n",
                "print(\"Cohen's kappa:\", cohen_kappa_score(r1, r2))"
            ]
        },
        {
            "cell_type": "markdown",
            "metadata": {},
            "source": [
                "### Ex-1.4\n",
                "\n",
                "This is an example of marginal rates changed from (30, 70) to (50,50).\n",
                "\n",
                "|     | R2: A | R2: B | Total |\n",
                "| - | - | - | - |\n",
                "| R1: A | 25 | 25 | 50 |\n",
                "| R1: B | 25 | 25 | 50 |\n",
                "| Total | 50 | 50 | 100 |"
            ]
        },
        {
            "cell_type": "code",
            "execution_count": null,
            "metadata": {},
            "outputs": [],
            "source": [
                "r1 = ['B'] * 50 + ['A'] * 50\n",
                "r2 = ['A'] * 25 + ['B'] * 25 + ['A'] * 25 + ['B'] * 25\n",
                "\n",
                "print(\"Cohen's kappa:\", cohen_kappa_score(r1, r2))"
            ]
        },
        {
            "cell_type": "markdown",
            "metadata": {},
            "source": [
                "### Ex-1.5\n",
                "\n",
                "This is an example of marginal rates is the same as the previous example, (50,50), but agreement numbers changed.\n",
                "\n",
                "|     | R2: A | R2: B | Total |\n",
                "| - | - | - | - |\n",
                "| R1: A | 50 | 0 | 50 |\n",
                "| R1: B | 0 | 50 | 50 |\n",
                "| Total | 50 | 50 | 100 |"
            ]
        },
        {
            "cell_type": "code",
            "execution_count": null,
            "metadata": {},
            "outputs": [],
            "source": [
                "r1 = ['B'] * 50 + ['A'] * 50\n",
                "r2 = ['B'] * 50 + ['A'] * 50\n",
                "\n",
                "print(\"Cohen's kappa:\", cohen_kappa_score(r1, r2))"
            ]
        },
        {
            "cell_type": "markdown",
            "metadata": {},
            "source": [
                "### Ex-1.6\n",
                "\n",
                "This is an example of marginal rates is the same as the previous example, (50,50), but agreement numbers changed.\n",
                "\n",
                "|     | R2: A | R2: B | Total |\n",
                "| - | - | - | - |\n",
                "| R1: A | 0 | 50 | 50 |\n",
                "| R1: B | 50 | 0 | 50 |\n",
                "| Total | 50 | 50 | 100 |"
            ]
        },
        {
            "cell_type": "code",
            "execution_count": null,
            "metadata": {},
            "outputs": [],
            "source": [
                "r1 = ['B'] * 50 + ['A'] * 50\n",
                "r2 = ['A'] * 50 + ['B'] * 50\n",
                "\n",
                "print(\"Cohen's kappa:\", cohen_kappa_score(r1, r2))"
            ]
        },
        {
            "cell_type": "markdown",
            "metadata": {},
            "source": [
                "## Example -  Group 2\n",
                "\n",
                "TBA"
            ]
        },
        {
            "cell_type": "markdown",
            "metadata": {},
            "source": [
                "## Reference\n",
                "\n",
                "[^1]: Cohen, J. (1960). A Coefficient of Agreement for Nominal Scales. Educational and Psychological Measurement, 20(1), 37-46. https://doi.org/10.1177/001316446002000104 ([web page]())\n",
                "[^2]: McHugh M. L. (2012). Interrater reliability: the kappa statistic. Biochemia medica, 22(3), 276–282.([web page](https://www.ncbi.nlm.nih.gov/pmc/articles/PMC3900052/))\n",
                "[^3]: Brennan, R. L., & Prediger, D. J. (1981). Coefficient Kappa: Some Uses, Misuses, and Alternatives. Educational and Psychological Measurement, 41(3), 687-699. https://doi.org/10.1177/001316448104100307"
            ]
        }
    ],
    "metadata": {
        "kernelspec": {
            "display_name": "Python 3",
            "language": "python",
            "name": "python3"
        },
        "language_info": {
            "codemirror_mode": {
                "name": "ipython",
                "version": 3
            },
            "file_extension": ".py",
            "mimetype": "text/x-python",
            "name": "python",
            "nbconvert_exporter": "python",
            "pygments_lexer": "ipython3",
            "version": "3.12.1"
        }
    },
    "nbformat": 4,
    "nbformat_minor": 4
}
