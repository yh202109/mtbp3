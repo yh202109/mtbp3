{
 "cells": [
  {
   "cell_type": "markdown",
   "metadata": {},
   "source": [
    "# H/MedDRA/(MLGs by CIOMS)\n",
    "\n",
    "The Medical Dictionary for Regulatory Activities (MedDRA) is a set of standardized terminologies commonly used in clinical safety recording, communicating, and reporting activities.  MedDRA is developed and maintained by the International Council for Harmonisation of Technical Requirements for Pharmaceuticals for Human Use (ICH)[^1]<sup>,</sup>[^2]. \n",
    "\n",
    "The MedDRA Labeling Groupings (MLGs) are standardized adverse reactions groupings designed for product safety labeling.\n",
    "MLGs are developed and maintained by The Council For International Organizations of Medical Sciences (CIOMS) [^3].\n",
    "The methodology of developing, principles of use, and relationships with MedDRA SMQs are described in the articles published by CIOMS[^4]<sup>,</sup>[^5].\n",
    "\n",
    "The module `emt` currently does not include functions for working with MLGs. This is a place holder for future uses."
   ]
  },
  {
   "cell_type": "markdown",
   "metadata": {},
   "source": [
    "## Reference\n",
    "\n",
    "[^1]: ICH. (2013). Understanding MedDRA. ([pdf](https://admin.meddra.org/sites/default/files/page/documents_insert/meddra2013_0.pdf))\n",
    "[^2]: Dutta, A. (2020). MedDRA - Terminologies & Coding. ([pdf](https://meddra.org/sites/default/files/page/documents_insert/meddra_-_terminologies_coding.pdf))\n",
    "[^3]: CIOMS. (2024). Expert Working Group on MedDRA Labelling Groupings. ([webpage](https://cioms.ch/working-groups/meddra-labelling-groupings/))\n",
    "[^4]: CIOMS. (2024). Introduction to MedDRA Labeling Grouping (MLG): A standardized approach to grouping adverse reactions in product safety labels. report of the CIOMS MLG Expert Working Group. \n",
    "[^5]: Große-Michaelis, I., Proestel, S., Rao, R. M., Dillman, B. S., Bader-Weder, S., Macdonald, L., & Gregory, W. (2023). MedDRA Labeling Groupings to Improve Safety Communication in Product Labels. Therapeutic innovation & regulatory science, 57(1), 1–6. https://doi.org/10.1007/s43441-022-00393-1 ([pdf](https://cioms.ch/wp-content/uploads/2019/07/MLG-DIA_publication_08Aug2022.pdf)) ([doi.org](https://doi.org/10.1007/s43441-022-00393-1))\n"
   ]
  }
 ],
 "metadata": {
  "language_info": {
   "name": "python"
  }
 },
 "nbformat": 4,
 "nbformat_minor": 2
}
