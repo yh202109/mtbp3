{
 "cells": [
  {
   "cell_type": "markdown",
   "metadata": {},
   "source": [
    "# MedDRA - work with FMQs\n",
    "\n",
    "The Medical Dictionary for Regulatory Activities (MedDRA) is a set of standardized terminologies commonly used in clinical safety recording, communicating, and reporting activities.  MedDRA is developed and maintained by the International Council for Harmonisation of Technical Requirements for Pharmaceuticals for Human Use (ICH)[^1]<sup>,</sup>[^2]. \n",
    "\n",
    "The FDA Medical Queries (FMQs) are groups of MedDRA terms used to describe conditions of interest published by FDA for the goal of improving transparency. There are currently 104 FMQs, and 4 of 104 are algorithm based in Version 2.1 [^3]<sub>,</sub>[^4]\n",
    "FMQ is in public domain and a consolidated list[^3] of FMQ is shipped with this module.\n",
    "The module `emt` includes basic functions for working with FMQs.\n"
   ]
  },
  {
   "cell_type": "markdown",
   "metadata": {},
   "source": [
    "To download the consolidated FMQ list:\n",
    "\n",
    "<pre>\n",
    "from mtbp3.util.emt import Emt\n",
    "\n",
    "emt = Emt(folder_name='')\n",
    "emt.save_fmq_consolidated_list_csv(folder_path=\"a_valid_folder_path\"):\n",
    "</pre>"
   ]
  },
  {
   "cell_type": "markdown",
   "metadata": {},
   "source": [
    "## Reference\n",
    "\n",
    "[^1]: ICH. (2013). Understanding MedDRA. ([pdf](https://admin.meddra.org/sites/default/files/page/documents_insert/meddra2013_0.pdf))\n",
    "[^2]: Dutta, A. (2020). MedDRA - Terminologies & Coding. ([pdf](https://meddra.org/sites/default/files/page/documents_insert/meddra_-_terminologies_coding.pdf))\n",
    "[^3]: FDA. (2022). BIRRS FDA Medical Queries (FMQ) Project Update.([pdf](https://www.fda.gov/media/164639/download))\n",
    "[^4]: Clio Wu. (2023) Why FDA Medical Queries (FMQs) for Adverse Events of Special Interest?\n",
    "Implementation and Case Study. PharmaSUG 2023 - Paper DS-036. ([pdf](https://www.lexjansen.com/pharmasug/2023/DS/PharmaSUG-2023-DS-036.pdf))\n"
   ]
  }
 ],
 "metadata": {
  "language_info": {
   "name": "python"
  }
 },
 "nbformat": 4,
 "nbformat_minor": 2
}
