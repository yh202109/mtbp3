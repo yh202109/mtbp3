{
 "cells": [
  {
   "cell_type": "markdown",
   "metadata": {},
   "source": [
    "# MedDRA Query - FMQs by FDA\n",
    "\n",
    "This is the Appendix section of the module `emt` documentation for FMQs."
   ]
  },
  {
   "cell_type": "markdown",
   "metadata": {},
   "source": [
    "## Appendix\n",
    "\n",
    "Get FMQ list:"
   ]
  },
  {
   "cell_type": "code",
   "execution_count": null,
   "metadata": {
    "vscode": {
     "languageId": "plaintext"
    }
   },
   "outputs": [],
   "source": [
    "from mtbp3.health.emt import Emt\n",
    "from ipywidgets import widgets\n",
    "from IPython.display import clear_output\n",
    "\n",
    "emt = Emt(folder_name='')\n",
    "fmq_list = emt.find_fmq(fmq=[])\n",
    "dropdown = widgets.Dropdown(options=fmq_list, description='Select FMQ List:', multiple=False)\n",
    "\n",
    "fmq_tree_list = []\n",
    "for option in dropdown.options:\n",
    "    fmq_tree_list.append(emt.show_fmq_tree([option]))\n",
    "\n",
    "def on_dropdown_change(change):\n",
    "    clear_output()\n",
    "    print('\\n'.join(fmq_tree_list[dropdown.index]))\n",
    "\n",
    "dropdown.observe(on_dropdown_change, names='value')"
   ]
  },
  {
   "cell_type": "markdown",
   "metadata": {},
   "source": [
    "Select an FMQ below to see PTs included:"
   ]
  },
  {
   "cell_type": "code",
   "execution_count": null,
   "metadata": {
    "vscode": {
     "languageId": "plaintext"
    }
   },
   "outputs": [],
   "source": [
    "display(dropdown)"
   ]
  },
  {
   "cell_type": "code",
   "execution_count": null,
   "metadata": {
    "vscode": {
     "languageId": "plaintext"
    }
   },
   "outputs": [],
   "source": [
    "dropdown2 = widgets.Dropdown(options=fmq_list, description='Select FMQ List:', multiple=False)\n",
    "\n",
    "def on_dropdown2_change(change):\n",
    "    clear_output()\n",
    "    print('\\n'.join(emt.show_fmq_tree(fmq_list[dropdown.index])))\n",
    "\n",
    "dropdown2.observe(on_dropdown2_change, names='value')"
   ]
  },
  {
   "cell_type": "code",
   "execution_count": null,
   "metadata": {
    "vscode": {
     "languageId": "plaintext"
    }
   },
   "outputs": [],
   "source": []
  }
 ],
 "metadata": {
  "language_info": {
   "name": "python"
  }
 },
 "nbformat": 4,
 "nbformat_minor": 2
}
